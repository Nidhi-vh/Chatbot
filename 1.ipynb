{
 "cells": [
  {
   "cell_type": "code",
   "execution_count": 1,
   "metadata": {},
   "outputs": [],
   "source": [
    "# chatbot project \n",
    "import pandas as pd\n"
   ]
  },
  {
   "cell_type": "code",
   "execution_count": 2,
   "metadata": {},
   "outputs": [
    {
     "name": "stdout",
     "output_type": "stream",
     "text": [
      "  flags                                          utterance category  \\\n",
      "0    BM            I have problems with canceling an order    ORDER   \n",
      "1   BIM  how can I find information about canceling ord...    ORDER   \n",
      "2     B          I need help with canceling the last order    ORDER   \n",
      "3   BIP  could you help me cancelling the last order I ...    ORDER   \n",
      "4     B            problem with cancelling an order I made    ORDER   \n",
      "\n",
      "         intent  \n",
      "0  cancel_order  \n",
      "1  cancel_order  \n",
      "2  cancel_order  \n",
      "3  cancel_order  \n",
      "4  cancel_order  \n"
     ]
    }
   ],
   "source": [
    "data=pd.read_excel(r'C:\\Users\\91901\\AppData\\Local\\Temp\\15f994bd-c97d-4dd7-ab47-1b2030a4a3cd_Chatbot data set-20240813T164735Z-001.zip.3cd\\Chatbot data set\\Bitext_Sample_Customer_Service_Training_Dataset.xlsx')\n",
    "print(data.head())"
   ]
  },
  {
   "cell_type": "code",
   "execution_count": 7,
   "metadata": {},
   "outputs": [
    {
     "name": "stdout",
     "output_type": "stream",
     "text": [
      "Index(['flags', 'utterance', 'category', 'intent'], dtype='object')\n"
     ]
    }
   ],
   "source": [
    "print(data.columns)\n",
    "# Use 'utterance' column for text data\n",
    "data['cleaned_text'] = data['utterance'].apply(clean_text)\n",
    "\n",
    "# Tokenization and vectorization\n",
    "tfidf = TfidfVectorizer(max_features=5000)\n",
    "X = tfidf.fit_transform(data['cleaned_text']).toarray()\n",
    "\n",
    "# Split the dataset\n",
    "X_train, X_test, y_train, y_test = train_test_split(X, data['intent'], test_size=0.2, random_state=42)\n"
   ]
  },
  {
   "cell_type": "code",
   "execution_count": 10,
   "metadata": {},
   "outputs": [
    {
     "name": "stderr",
     "output_type": "stream",
     "text": [
      "[nltk_data] Downloading package stopwords to\n",
      "[nltk_data]     C:\\Users\\91901\\AppData\\Roaming\\nltk_data...\n",
      "[nltk_data]   Package stopwords is already up-to-date!\n"
     ]
    }
   ],
   "source": [
    "import re\n",
    "import nltk\n",
    "from nltk.corpus import stopwords\n",
    "from sklearn.model_selection import train_test_split\n",
    "from sklearn.feature_extraction.text import TfidfVectorizer\n",
    "\n",
    "# Download the stopwords from NLTK\n",
    "nltk.download('stopwords')\n",
    "stop_words = set(stopwords.words('english'))\n",
    "\n",
    "# Text cleaning function\n",
    "def clean_text(text):\n",
    "    text = re.sub(r'\\W', ' ', text)  # Remove special characters\n",
    "    text = re.sub(r'\\s+', ' ', text)  # Remove extra spaces\n",
    "    text = text.lower()  # Convert to lowercase\n",
    "    text = ' '.join(word for word in text.split() if word not in stop_words)  # Remove stopwords\n",
    "    return text\n",
    "\n",
    "# Apply cleaning function to the 'utterance' column\n",
    "data['cleaned_text'] = data['utterance'].apply(clean_text)\n",
    "\n",
    "# Tokenization and vectorization\n",
    "tfidf = TfidfVectorizer(max_features=5000)\n",
    "X = tfidf.fit_transform(data['cleaned_text']).toarray()\n",
    "\n",
    "# Split the dataset into training and test sets\n",
    "X_train, X_test, y_train, y_test = train_test_split(X, data['intent'], test_size=0.2, random_state=42)\n"
   ]
  },
  {
   "cell_type": "code",
   "execution_count": 11,
   "metadata": {},
   "outputs": [
    {
     "name": "stdout",
     "output_type": "stream",
     "text": [
      "                          precision    recall  f1-score   support\n",
      "\n",
      "            cancel_order       0.98      0.98      0.98        62\n",
      "            change_order       1.00      1.00      1.00        70\n",
      " change_shipping_address       1.00      0.98      0.99        60\n",
      "  check_cancellation_fee       0.98      0.98      0.98        66\n",
      "           check_invoice       1.00      0.97      0.98        63\n",
      "   check_payment_methods       1.00      0.97      0.99        68\n",
      "     check_refund_policy       0.98      0.98      0.98        59\n",
      "               complaint       1.00      1.00      1.00        52\n",
      "contact_customer_service       0.97      1.00      0.98        61\n",
      "     contact_human_agent       1.00      1.00      1.00        57\n",
      "          create_account       1.00      0.95      0.98        62\n",
      "          delete_account       1.00      1.00      1.00        53\n",
      "        delivery_options       0.98      1.00      0.99        55\n",
      "         delivery_period       1.00      1.00      1.00        49\n",
      "            edit_account       1.00      1.00      1.00        69\n",
      "             get_invoice       0.97      1.00      0.99        72\n",
      "              get_refund       0.98      0.98      0.98        60\n",
      " newsletter_subscription       1.00      1.00      1.00        49\n",
      "           payment_issue       1.00      0.99      0.99        68\n",
      "             place_order       1.00      1.00      1.00        65\n",
      "        recover_password       1.00      1.00      1.00        62\n",
      "   registration_problems       0.98      1.00      0.99        53\n",
      "                  review       0.99      1.00      0.99        67\n",
      " set_up_shipping_address       0.98      1.00      0.99        59\n",
      "          switch_account       0.98      1.00      0.99        57\n",
      "             track_order       1.00      1.00      1.00        63\n",
      "            track_refund       1.00      1.00      1.00        54\n",
      "\n",
      "                accuracy                           0.99      1635\n",
      "               macro avg       0.99      0.99      0.99      1635\n",
      "            weighted avg       0.99      0.99      0.99      1635\n",
      "\n"
     ]
    }
   ],
   "source": [
    "from sklearn.naive_bayes import MultinomialNB\n",
    "from sklearn.metrics import classification_report\n",
    "\n",
    "# Train the model\n",
    "model = MultinomialNB()\n",
    "model.fit(X_train, y_train)\n",
    "\n",
    "# Predict on the test set\n",
    "y_pred = model.predict(X_test)\n",
    "\n",
    "# Evaluate the model\n",
    "print(classification_report(y_test, y_pred))"
   ]
  },
  {
   "cell_type": "code",
   "execution_count": 12,
   "metadata": {},
   "outputs": [
    {
     "name": "stdout",
     "output_type": "stream",
     "text": [
      "track_order\n"
     ]
    }
   ],
   "source": [
    "# Interactive example to test the chatbot\n",
    "def chatbot_response(query):\n",
    "    query_cleaned = clean_text(query)\n",
    "    query_vectorized = tfidf.transform([query_cleaned]).toarray()\n",
    "    prediction = model.predict(query_vectorized)\n",
    "    return prediction[0]\n",
    "\n",
    "# Test the chatbot\n",
    "print(chatbot_response(\"I want to track my order\"))\n",
    "\n"
   ]
  },
  {
   "cell_type": "code",
   "execution_count": null,
   "metadata": {},
   "outputs": [],
   "source": []
  },
  {
   "cell_type": "code",
   "execution_count": null,
   "metadata": {},
   "outputs": [],
   "source": []
  }
 ],
 "metadata": {
  "kernelspec": {
   "display_name": "Python 3",
   "language": "python",
   "name": "python3"
  },
  "language_info": {
   "codemirror_mode": {
    "name": "ipython",
    "version": 3
   },
   "file_extension": ".py",
   "mimetype": "text/x-python",
   "name": "python",
   "nbconvert_exporter": "python",
   "pygments_lexer": "ipython3",
   "version": "3.12.4"
  }
 },
 "nbformat": 4,
 "nbformat_minor": 2
}
